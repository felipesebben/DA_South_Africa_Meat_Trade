{
 "cells": [
  {
   "cell_type": "code",
   "execution_count": 1,
   "metadata": {},
   "outputs": [],
   "source": [
    "import numpy as np\n",
    "from numpy import nan as NA\n",
    "import pandas as pd\n",
    "import glob\n",
    "import datetime as dt\n",
    "import os as os\n",
    "import matplotlib as mpl\n",
    "import matplotlib.pyplot as plt\n",
    "import seaborn as sns\n",
    "from babel.numbers import format_currency\n",
    "import datetime as dt\n",
    "%matplotlib inline\n"
   ]
  },
  {
   "cell_type": "code",
   "execution_count": 2,
   "metadata": {},
   "outputs": [
    {
     "data": {
      "text/plain": [
       "6"
      ]
     },
     "execution_count": 2,
     "metadata": {},
     "output_type": "execute_result"
    }
   ],
   "source": [
    "pd.get_option('display.precision')"
   ]
  },
  {
   "cell_type": "code",
   "execution_count": 28,
   "metadata": {},
   "outputs": [],
   "source": [
    "pd.set_option('display.max.columns', None)\n",
    "pd.set_option('display.max.rows', 50)\n",
    "pd.set_option('display.precision',2)"
   ]
  },
  {
   "cell_type": "code",
   "execution_count": 5,
   "metadata": {},
   "outputs": [],
   "source": [
    "df = pd.read_csv(\n",
    "    'sa_trade.csv', index_col=0)"
   ]
  },
  {
   "cell_type": "code",
   "execution_count": 6,
   "metadata": {},
   "outputs": [
    {
     "name": "stdout",
     "output_type": "stream",
     "text": [
      "<class 'pandas.core.frame.DataFrame'>\n",
      "Int64Index: 29650 entries, 0 to 29649\n",
      "Data columns (total 10 columns):\n",
      " #   Column        Non-Null Count  Dtype  \n",
      "---  ------        --------------  -----  \n",
      " 0   Region        29650 non-null  object \n",
      " 1   Country Code  29650 non-null  object \n",
      " 2   Country       29650 non-null  object \n",
      " 3   Date          29650 non-null  object \n",
      " 4   Year          29650 non-null  int64  \n",
      " 5   Month         29650 non-null  int64  \n",
      " 6   Meat Type     29650 non-null  object \n",
      " 7   Description   29650 non-null  object \n",
      " 8   Quantity      29650 non-null  float64\n",
      " 9   Value         29650 non-null  int64  \n",
      "dtypes: float64(1), int64(3), object(6)\n",
      "memory usage: 2.5+ MB\n"
     ]
    }
   ],
   "source": [
    "df.info()"
   ]
  },
  {
   "cell_type": "code",
   "execution_count": 7,
   "metadata": {},
   "outputs": [],
   "source": [
    "df = df.set_axis(\n",
    "    ['Region', 'Country Code',\n",
    "     'Country', 'Date','Year',\n",
    "      'Month', 'Meat Type',\n",
    "      'Description', 'Quantity',\n",
    "      'Value'], axis=1\n",
    "    )"
   ]
  },
  {
   "cell_type": "code",
   "execution_count": 8,
   "metadata": {},
   "outputs": [],
   "source": [
    "for col in [\n",
    "            'Region', 'Country Code', 'Country', \n",
    "            'Year', 'Month', 'Meat Type', 'Description']:\n",
    "    df[col] = df[col].astype('category')"
   ]
  },
  {
   "cell_type": "code",
   "execution_count": 9,
   "metadata": {},
   "outputs": [],
   "source": [
    "df['Date'] = pd.to_datetime(df['Date'], format='%Y-%m')"
   ]
  },
  {
   "cell_type": "code",
   "execution_count": 10,
   "metadata": {},
   "outputs": [
    {
     "data": {
      "text/html": [
       "<div>\n",
       "<style scoped>\n",
       "    .dataframe tbody tr th:only-of-type {\n",
       "        vertical-align: middle;\n",
       "    }\n",
       "\n",
       "    .dataframe tbody tr th {\n",
       "        vertical-align: top;\n",
       "    }\n",
       "\n",
       "    .dataframe thead th {\n",
       "        text-align: right;\n",
       "    }\n",
       "</style>\n",
       "<table border=\"1\" class=\"dataframe\">\n",
       "  <thead>\n",
       "    <tr style=\"text-align: right;\">\n",
       "      <th></th>\n",
       "      <th>Region</th>\n",
       "      <th>Country Code</th>\n",
       "      <th>Country</th>\n",
       "      <th>Date</th>\n",
       "      <th>Year</th>\n",
       "      <th>Month</th>\n",
       "      <th>Meat Type</th>\n",
       "      <th>Description</th>\n",
       "      <th>Quantity</th>\n",
       "      <th>Value</th>\n",
       "    </tr>\n",
       "  </thead>\n",
       "  <tbody>\n",
       "    <tr>\n",
       "      <th>0</th>\n",
       "      <td>OCEANIA</td>\n",
       "      <td>AU</td>\n",
       "      <td>Australia</td>\n",
       "      <td>2010-01-01</td>\n",
       "      <td>2010</td>\n",
       "      <td>1</td>\n",
       "      <td>Beef Offals - Frozen</td>\n",
       "      <td>Livers</td>\n",
       "      <td>54.03</td>\n",
       "      <td>237749</td>\n",
       "    </tr>\n",
       "    <tr>\n",
       "      <th>1</th>\n",
       "      <td>OCEANIA</td>\n",
       "      <td>AU</td>\n",
       "      <td>Australia</td>\n",
       "      <td>2010-01-01</td>\n",
       "      <td>2010</td>\n",
       "      <td>1</td>\n",
       "      <td>Pork Offals - Frozen</td>\n",
       "      <td>Other, Frozen</td>\n",
       "      <td>60.70</td>\n",
       "      <td>497049</td>\n",
       "    </tr>\n",
       "    <tr>\n",
       "      <th>2</th>\n",
       "      <td>OCEANIA</td>\n",
       "      <td>AU</td>\n",
       "      <td>Australia</td>\n",
       "      <td>2010-01-01</td>\n",
       "      <td>2010</td>\n",
       "      <td>1</td>\n",
       "      <td>Chicken</td>\n",
       "      <td>Other</td>\n",
       "      <td>45.07</td>\n",
       "      <td>367064</td>\n",
       "    </tr>\n",
       "    <tr>\n",
       "      <th>3</th>\n",
       "      <td>OCEANIA</td>\n",
       "      <td>AU</td>\n",
       "      <td>Australia</td>\n",
       "      <td>2010-01-01</td>\n",
       "      <td>2010</td>\n",
       "      <td>1</td>\n",
       "      <td>Chicken</td>\n",
       "      <td>Cuts And Offal, Frozen</td>\n",
       "      <td>23.34</td>\n",
       "      <td>203859</td>\n",
       "    </tr>\n",
       "    <tr>\n",
       "      <th>4</th>\n",
       "      <td>AFRICA</td>\n",
       "      <td>LS</td>\n",
       "      <td>Lesotho</td>\n",
       "      <td>2010-01-01</td>\n",
       "      <td>2010</td>\n",
       "      <td>1</td>\n",
       "      <td>Chicken</td>\n",
       "      <td>Cuts And Offal, Fresh Or Chilled</td>\n",
       "      <td>0.12</td>\n",
       "      <td>21350</td>\n",
       "    </tr>\n",
       "  </tbody>\n",
       "</table>\n",
       "</div>"
      ],
      "text/plain": [
       "    Region Country Code    Country       Date  Year Month  \\\n",
       "0  OCEANIA           AU  Australia 2010-01-01  2010     1   \n",
       "1  OCEANIA           AU  Australia 2010-01-01  2010     1   \n",
       "2  OCEANIA           AU  Australia 2010-01-01  2010     1   \n",
       "3  OCEANIA           AU  Australia 2010-01-01  2010     1   \n",
       "4   AFRICA           LS    Lesotho 2010-01-01  2010     1   \n",
       "\n",
       "              Meat Type                       Description  Quantity   Value  \n",
       "0  Beef Offals - Frozen                            Livers     54.03  237749  \n",
       "1  Pork Offals - Frozen                     Other, Frozen     60.70  497049  \n",
       "2               Chicken                             Other     45.07  367064  \n",
       "3               Chicken            Cuts And Offal, Frozen     23.34  203859  \n",
       "4               Chicken  Cuts And Offal, Fresh Or Chilled      0.12   21350  "
      ]
     },
     "execution_count": 10,
     "metadata": {},
     "output_type": "execute_result"
    }
   ],
   "source": [
    "df.head()"
   ]
  },
  {
   "cell_type": "code",
   "execution_count": 11,
   "metadata": {},
   "outputs": [
    {
     "name": "stdout",
     "output_type": "stream",
     "text": [
      "<class 'pandas.core.frame.DataFrame'>\n",
      "Int64Index: 29650 entries, 0 to 29649\n",
      "Data columns (total 10 columns):\n",
      " #   Column        Non-Null Count  Dtype         \n",
      "---  ------        --------------  -----         \n",
      " 0   Region        29650 non-null  category      \n",
      " 1   Country Code  29650 non-null  category      \n",
      " 2   Country       29650 non-null  category      \n",
      " 3   Date          29650 non-null  datetime64[ns]\n",
      " 4   Year          29650 non-null  category      \n",
      " 5   Month         29650 non-null  category      \n",
      " 6   Meat Type     29650 non-null  category      \n",
      " 7   Description   29650 non-null  category      \n",
      " 8   Quantity      29650 non-null  float64       \n",
      " 9   Value         29650 non-null  int64         \n",
      "dtypes: category(7), datetime64[ns](1), float64(1), int64(1)\n",
      "memory usage: 1.1 MB\n"
     ]
    }
   ],
   "source": [
    "df.info()"
   ]
  },
  {
   "cell_type": "markdown",
   "metadata": {},
   "source": [
    "Ok, now we can start looking for some answers in the dataset.\n",
    "1.\tWhat are South Africa’s overall import trends in recent years?\n",
    "    \n",
    "    a. \tIn prices and volume?\n",
    "    \n",
    "    b.  Has it gone up?\n",
    "    \n",
    "    c.\tHow much and how many?\n",
    "\n",
    "\n",
    "2.\tWhat are the main imported goods in quantity and value?\n",
    "    \n",
    "    a.\tWhat price?\n",
    "    \n",
    "    b.\tWhat quantity?\n",
    "    \n",
    "    c.\tHas it changed over the years?\n",
    "    \n",
    "    d.\tWhat is the trend?\n",
    "\n",
    "\n",
    "3.\tWhat are the main exporting countries?\n",
    "    \n",
    "    a.\tWhat do they export?\n",
    "    \n",
    "    b.\tWhat price?\n",
    "    \n",
    "    c.\tHas this list changed over the years? \n",
    "    \n",
    "    d.\tWhat is the trend?\n",
    "\n"
   ]
  },
  {
   "cell_type": "code",
   "execution_count": 12,
   "metadata": {},
   "outputs": [
    {
     "data": {
      "text/html": [
       "<div>\n",
       "<style scoped>\n",
       "    .dataframe tbody tr th:only-of-type {\n",
       "        vertical-align: middle;\n",
       "    }\n",
       "\n",
       "    .dataframe tbody tr th {\n",
       "        vertical-align: top;\n",
       "    }\n",
       "\n",
       "    .dataframe thead th {\n",
       "        text-align: right;\n",
       "    }\n",
       "</style>\n",
       "<table border=\"1\" class=\"dataframe\">\n",
       "  <thead>\n",
       "    <tr style=\"text-align: right;\">\n",
       "      <th></th>\n",
       "      <th>Value</th>\n",
       "      <th>Quantity</th>\n",
       "    </tr>\n",
       "    <tr>\n",
       "      <th>Year</th>\n",
       "      <th></th>\n",
       "      <th></th>\n",
       "    </tr>\n",
       "  </thead>\n",
       "  <tbody>\n",
       "    <tr>\n",
       "      <th>2010</th>\n",
       "      <td>3605292250</td>\n",
       "      <td>368196.84</td>\n",
       "    </tr>\n",
       "    <tr>\n",
       "      <th>2011</th>\n",
       "      <td>5077316483</td>\n",
       "      <td>466837.24</td>\n",
       "    </tr>\n",
       "    <tr>\n",
       "      <th>2012</th>\n",
       "      <td>6113675639</td>\n",
       "      <td>520974.81</td>\n",
       "    </tr>\n",
       "    <tr>\n",
       "      <th>2013</th>\n",
       "      <td>6163843515</td>\n",
       "      <td>496616.01</td>\n",
       "    </tr>\n",
       "    <tr>\n",
       "      <th>2014</th>\n",
       "      <td>6111269854</td>\n",
       "      <td>482799.05</td>\n",
       "    </tr>\n",
       "    <tr>\n",
       "      <th>2015</th>\n",
       "      <td>7041306185</td>\n",
       "      <td>583457.78</td>\n",
       "    </tr>\n",
       "    <tr>\n",
       "      <th>2016</th>\n",
       "      <td>7801591499</td>\n",
       "      <td>655144.08</td>\n",
       "    </tr>\n",
       "    <tr>\n",
       "      <th>2017</th>\n",
       "      <td>9008130461</td>\n",
       "      <td>666577.22</td>\n",
       "    </tr>\n",
       "    <tr>\n",
       "      <th>2018</th>\n",
       "      <td>9134609207</td>\n",
       "      <td>688271.82</td>\n",
       "    </tr>\n",
       "    <tr>\n",
       "      <th>2019</th>\n",
       "      <td>8451869934</td>\n",
       "      <td>649660.24</td>\n",
       "    </tr>\n",
       "    <tr>\n",
       "      <th>2020</th>\n",
       "      <td>6961017803</td>\n",
       "      <td>569678.23</td>\n",
       "    </tr>\n",
       "    <tr>\n",
       "      <th>2021</th>\n",
       "      <td>6372273062</td>\n",
       "      <td>434601.73</td>\n",
       "    </tr>\n",
       "  </tbody>\n",
       "</table>\n",
       "</div>"
      ],
      "text/plain": [
       "           Value   Quantity\n",
       "Year                       \n",
       "2010  3605292250  368196.84\n",
       "2011  5077316483  466837.24\n",
       "2012  6113675639  520974.81\n",
       "2013  6163843515  496616.01\n",
       "2014  6111269854  482799.05\n",
       "2015  7041306185  583457.78\n",
       "2016  7801591499  655144.08\n",
       "2017  9008130461  666577.22\n",
       "2018  9134609207  688271.82\n",
       "2019  8451869934  649660.24\n",
       "2020  6961017803  569678.23\n",
       "2021  6372273062  434601.73"
      ]
     },
     "execution_count": 12,
     "metadata": {},
     "output_type": "execute_result"
    }
   ],
   "source": [
    "df.groupby('Year').agg({'Value': 'sum','Quantity':'sum'}).sort_index()"
   ]
  },
  {
   "cell_type": "markdown",
   "metadata": {},
   "source": [
    "In terms of value, we can observe that imports had been increasing until 2018, when it reached around $9.1bi. After that, it started to decline. as we don't have all import values from 2021, we cannot compare its result with other years. However, given that we have data well until September, it is likely that 2021 will end with a higher value than 2020. \n",
    "In terms of quantity, data displays interesting trends. First, in some years, while total import values were increasing, total quantity actually decreased. This happened in 2013 and 2014. We can infer that South Africa changed its meat profile, maybe buying more expensive goods. Overall, demand peaked in 2018 as well, with  688,271.82t"
   ]
  },
  {
   "cell_type": "code",
   "execution_count": 13,
   "metadata": {},
   "outputs": [
    {
     "data": {
      "text/html": [
       "<div>\n",
       "<style scoped>\n",
       "    .dataframe tbody tr th:only-of-type {\n",
       "        vertical-align: middle;\n",
       "    }\n",
       "\n",
       "    .dataframe tbody tr th {\n",
       "        vertical-align: top;\n",
       "    }\n",
       "\n",
       "    .dataframe thead th {\n",
       "        text-align: right;\n",
       "    }\n",
       "</style>\n",
       "<table border=\"1\" class=\"dataframe\">\n",
       "  <thead>\n",
       "    <tr style=\"text-align: right;\">\n",
       "      <th></th>\n",
       "      <th>Quantity</th>\n",
       "      <th>Value</th>\n",
       "    </tr>\n",
       "    <tr>\n",
       "      <th>Date</th>\n",
       "      <th></th>\n",
       "      <th></th>\n",
       "    </tr>\n",
       "  </thead>\n",
       "  <tbody>\n",
       "    <tr>\n",
       "      <th>2010-01-01</th>\n",
       "      <td>141</td>\n",
       "      <td>141</td>\n",
       "    </tr>\n",
       "    <tr>\n",
       "      <th>2010-02-01</th>\n",
       "      <td>147</td>\n",
       "      <td>147</td>\n",
       "    </tr>\n",
       "    <tr>\n",
       "      <th>2010-03-01</th>\n",
       "      <td>174</td>\n",
       "      <td>174</td>\n",
       "    </tr>\n",
       "    <tr>\n",
       "      <th>2010-04-01</th>\n",
       "      <td>151</td>\n",
       "      <td>151</td>\n",
       "    </tr>\n",
       "    <tr>\n",
       "      <th>2010-05-01</th>\n",
       "      <td>155</td>\n",
       "      <td>155</td>\n",
       "    </tr>\n",
       "    <tr>\n",
       "      <th>...</th>\n",
       "      <td>...</td>\n",
       "      <td>...</td>\n",
       "    </tr>\n",
       "    <tr>\n",
       "      <th>2021-06-01</th>\n",
       "      <td>194</td>\n",
       "      <td>194</td>\n",
       "    </tr>\n",
       "    <tr>\n",
       "      <th>2021-07-01</th>\n",
       "      <td>205</td>\n",
       "      <td>205</td>\n",
       "    </tr>\n",
       "    <tr>\n",
       "      <th>2021-08-01</th>\n",
       "      <td>214</td>\n",
       "      <td>214</td>\n",
       "    </tr>\n",
       "    <tr>\n",
       "      <th>2021-09-01</th>\n",
       "      <td>193</td>\n",
       "      <td>193</td>\n",
       "    </tr>\n",
       "    <tr>\n",
       "      <th>2021-10-01</th>\n",
       "      <td>188</td>\n",
       "      <td>188</td>\n",
       "    </tr>\n",
       "  </tbody>\n",
       "</table>\n",
       "<p>142 rows × 2 columns</p>\n",
       "</div>"
      ],
      "text/plain": [
       "            Quantity  Value\n",
       "Date                       \n",
       "2010-01-01       141    141\n",
       "2010-02-01       147    147\n",
       "2010-03-01       174    174\n",
       "2010-04-01       151    151\n",
       "2010-05-01       155    155\n",
       "...              ...    ...\n",
       "2021-06-01       194    194\n",
       "2021-07-01       205    205\n",
       "2021-08-01       214    214\n",
       "2021-09-01       193    193\n",
       "2021-10-01       188    188\n",
       "\n",
       "[142 rows x 2 columns]"
      ]
     },
     "execution_count": 13,
     "metadata": {},
     "output_type": "execute_result"
    }
   ],
   "source": [
    "df.groupby('Date')[['Quantity','Value']].count()"
   ]
  },
  {
   "cell_type": "code",
   "execution_count": 14,
   "metadata": {},
   "outputs": [
    {
     "data": {
      "text/plain": [
       "Year  Date      \n",
       "2010  2010-01-01    141\n",
       "      2010-02-01    147\n",
       "      2010-03-01    174\n",
       "      2010-04-01    151\n",
       "      2010-05-01    155\n",
       "                   ... \n",
       "2021  2021-06-01    194\n",
       "      2021-07-01    205\n",
       "      2021-08-01    214\n",
       "      2021-09-01    193\n",
       "      2021-10-01    188\n",
       "Name: Value, Length: 1704, dtype: int64"
      ]
     },
     "execution_count": 14,
     "metadata": {},
     "output_type": "execute_result"
    }
   ],
   "source": [
    "df.groupby(['Year', 'Date'])['Value'].count()"
   ]
  },
  {
   "cell_type": "code",
   "execution_count": 34,
   "metadata": {},
   "outputs": [],
   "source": [
    "avg_imp = df.groupby(\n",
    "    ['Year', 'Month'])[['Value', 'Quantity']].sum().sort_index().rename_axis(['Year', 'Month']\n",
    "        )"
   ]
  },
  {
   "cell_type": "code",
   "execution_count": 35,
   "metadata": {},
   "outputs": [],
   "source": [
    "avg_imp = avg_imp.sort_index(level=['Year', 'Month'])"
   ]
  },
  {
   "cell_type": "code",
   "execution_count": 36,
   "metadata": {},
   "outputs": [
    {
     "data": {
      "text/html": [
       "<div>\n",
       "<style scoped>\n",
       "    .dataframe tbody tr th:only-of-type {\n",
       "        vertical-align: middle;\n",
       "    }\n",
       "\n",
       "    .dataframe tbody tr th {\n",
       "        vertical-align: top;\n",
       "    }\n",
       "\n",
       "    .dataframe thead th {\n",
       "        text-align: right;\n",
       "    }\n",
       "</style>\n",
       "<table border=\"1\" class=\"dataframe\">\n",
       "  <thead>\n",
       "    <tr style=\"text-align: right;\">\n",
       "      <th></th>\n",
       "      <th></th>\n",
       "      <th>Value</th>\n",
       "      <th>Quantity</th>\n",
       "    </tr>\n",
       "    <tr>\n",
       "      <th>Year</th>\n",
       "      <th>Month</th>\n",
       "      <th></th>\n",
       "      <th></th>\n",
       "    </tr>\n",
       "  </thead>\n",
       "  <tbody>\n",
       "    <tr>\n",
       "      <th rowspan=\"5\" valign=\"top\">2010</th>\n",
       "      <th>1</th>\n",
       "      <td>213491699</td>\n",
       "      <td>24509.39</td>\n",
       "    </tr>\n",
       "    <tr>\n",
       "      <th>2</th>\n",
       "      <td>369691255</td>\n",
       "      <td>28169.21</td>\n",
       "    </tr>\n",
       "    <tr>\n",
       "      <th>3</th>\n",
       "      <td>366320313</td>\n",
       "      <td>38570.85</td>\n",
       "    </tr>\n",
       "    <tr>\n",
       "      <th>4</th>\n",
       "      <td>295998630</td>\n",
       "      <td>26167.71</td>\n",
       "    </tr>\n",
       "    <tr>\n",
       "      <th>5</th>\n",
       "      <td>276128201</td>\n",
       "      <td>27279.54</td>\n",
       "    </tr>\n",
       "    <tr>\n",
       "      <th>...</th>\n",
       "      <th>...</th>\n",
       "      <td>...</td>\n",
       "      <td>...</td>\n",
       "    </tr>\n",
       "    <tr>\n",
       "      <th rowspan=\"5\" valign=\"top\">2021</th>\n",
       "      <th>8</th>\n",
       "      <td>737528857</td>\n",
       "      <td>44605.23</td>\n",
       "    </tr>\n",
       "    <tr>\n",
       "      <th>9</th>\n",
       "      <td>653737902</td>\n",
       "      <td>40492.18</td>\n",
       "    </tr>\n",
       "    <tr>\n",
       "      <th>10</th>\n",
       "      <td>698801982</td>\n",
       "      <td>41927.30</td>\n",
       "    </tr>\n",
       "    <tr>\n",
       "      <th>11</th>\n",
       "      <td>0</td>\n",
       "      <td>0.00</td>\n",
       "    </tr>\n",
       "    <tr>\n",
       "      <th>12</th>\n",
       "      <td>0</td>\n",
       "      <td>0.00</td>\n",
       "    </tr>\n",
       "  </tbody>\n",
       "</table>\n",
       "<p>144 rows × 2 columns</p>\n",
       "</div>"
      ],
      "text/plain": [
       "                Value  Quantity\n",
       "Year Month                     \n",
       "2010 1      213491699  24509.39\n",
       "     2      369691255  28169.21\n",
       "     3      366320313  38570.85\n",
       "     4      295998630  26167.71\n",
       "     5      276128201  27279.54\n",
       "...               ...       ...\n",
       "2021 8      737528857  44605.23\n",
       "     9      653737902  40492.18\n",
       "     10     698801982  41927.30\n",
       "     11             0      0.00\n",
       "     12             0      0.00\n",
       "\n",
       "[144 rows x 2 columns]"
      ]
     },
     "execution_count": 36,
     "metadata": {},
     "output_type": "execute_result"
    }
   ],
   "source": [
    "avg_imp"
   ]
  },
  {
   "cell_type": "code",
   "execution_count": 29,
   "metadata": {},
   "outputs": [
    {
     "data": {
      "text/html": [
       "<div>\n",
       "<style scoped>\n",
       "    .dataframe tbody tr th:only-of-type {\n",
       "        vertical-align: middle;\n",
       "    }\n",
       "\n",
       "    .dataframe tbody tr th {\n",
       "        vertical-align: top;\n",
       "    }\n",
       "\n",
       "    .dataframe thead th {\n",
       "        text-align: right;\n",
       "    }\n",
       "</style>\n",
       "<table border=\"1\" class=\"dataframe\">\n",
       "  <thead>\n",
       "    <tr style=\"text-align: right;\">\n",
       "      <th></th>\n",
       "      <th></th>\n",
       "      <th>Value</th>\n",
       "      <th>Quantity</th>\n",
       "    </tr>\n",
       "    <tr>\n",
       "      <th>Year</th>\n",
       "      <th>Month</th>\n",
       "      <th></th>\n",
       "      <th></th>\n",
       "    </tr>\n",
       "  </thead>\n",
       "  <tbody>\n",
       "    <tr>\n",
       "      <th rowspan=\"12\" valign=\"top\">2010</th>\n",
       "      <th>1</th>\n",
       "      <td>213491699</td>\n",
       "      <td>24509.39</td>\n",
       "    </tr>\n",
       "    <tr>\n",
       "      <th>2</th>\n",
       "      <td>369691255</td>\n",
       "      <td>28169.21</td>\n",
       "    </tr>\n",
       "    <tr>\n",
       "      <th>3</th>\n",
       "      <td>366320313</td>\n",
       "      <td>38570.85</td>\n",
       "    </tr>\n",
       "    <tr>\n",
       "      <th>4</th>\n",
       "      <td>295998630</td>\n",
       "      <td>26167.71</td>\n",
       "    </tr>\n",
       "    <tr>\n",
       "      <th>5</th>\n",
       "      <td>276128201</td>\n",
       "      <td>27279.54</td>\n",
       "    </tr>\n",
       "    <tr>\n",
       "      <th>6</th>\n",
       "      <td>359969080</td>\n",
       "      <td>36467.29</td>\n",
       "    </tr>\n",
       "    <tr>\n",
       "      <th>7</th>\n",
       "      <td>324644741</td>\n",
       "      <td>33966.92</td>\n",
       "    </tr>\n",
       "    <tr>\n",
       "      <th>8</th>\n",
       "      <td>262248435</td>\n",
       "      <td>28625.22</td>\n",
       "    </tr>\n",
       "    <tr>\n",
       "      <th>9</th>\n",
       "      <td>243684078</td>\n",
       "      <td>28376.17</td>\n",
       "    </tr>\n",
       "    <tr>\n",
       "      <th>10</th>\n",
       "      <td>262918964</td>\n",
       "      <td>30771.69</td>\n",
       "    </tr>\n",
       "    <tr>\n",
       "      <th>11</th>\n",
       "      <td>274076709</td>\n",
       "      <td>30038.96</td>\n",
       "    </tr>\n",
       "    <tr>\n",
       "      <th>12</th>\n",
       "      <td>356120145</td>\n",
       "      <td>35253.90</td>\n",
       "    </tr>\n",
       "    <tr>\n",
       "      <th rowspan=\"12\" valign=\"top\">2011</th>\n",
       "      <th>1</th>\n",
       "      <td>273119192</td>\n",
       "      <td>33292.65</td>\n",
       "    </tr>\n",
       "    <tr>\n",
       "      <th>2</th>\n",
       "      <td>280117970</td>\n",
       "      <td>29394.98</td>\n",
       "    </tr>\n",
       "    <tr>\n",
       "      <th>3</th>\n",
       "      <td>402866471</td>\n",
       "      <td>38637.04</td>\n",
       "    </tr>\n",
       "    <tr>\n",
       "      <th>4</th>\n",
       "      <td>393294789</td>\n",
       "      <td>36034.38</td>\n",
       "    </tr>\n",
       "    <tr>\n",
       "      <th>5</th>\n",
       "      <td>407741234</td>\n",
       "      <td>39394.22</td>\n",
       "    </tr>\n",
       "    <tr>\n",
       "      <th>6</th>\n",
       "      <td>443525779</td>\n",
       "      <td>42255.28</td>\n",
       "    </tr>\n",
       "    <tr>\n",
       "      <th>7</th>\n",
       "      <td>528920545</td>\n",
       "      <td>47376.16</td>\n",
       "    </tr>\n",
       "    <tr>\n",
       "      <th>8</th>\n",
       "      <td>433289957</td>\n",
       "      <td>42489.28</td>\n",
       "    </tr>\n",
       "    <tr>\n",
       "      <th>9</th>\n",
       "      <td>378474679</td>\n",
       "      <td>35038.46</td>\n",
       "    </tr>\n",
       "    <tr>\n",
       "      <th>10</th>\n",
       "      <td>467080731</td>\n",
       "      <td>40709.41</td>\n",
       "    </tr>\n",
       "    <tr>\n",
       "      <th>11</th>\n",
       "      <td>567188670</td>\n",
       "      <td>43098.38</td>\n",
       "    </tr>\n",
       "    <tr>\n",
       "      <th>12</th>\n",
       "      <td>501696466</td>\n",
       "      <td>39117.02</td>\n",
       "    </tr>\n",
       "    <tr>\n",
       "      <th rowspan=\"12\" valign=\"top\">2012</th>\n",
       "      <th>1</th>\n",
       "      <td>502566534</td>\n",
       "      <td>43807.99</td>\n",
       "    </tr>\n",
       "    <tr>\n",
       "      <th>2</th>\n",
       "      <td>550963207</td>\n",
       "      <td>45292.90</td>\n",
       "    </tr>\n",
       "    <tr>\n",
       "      <th>3</th>\n",
       "      <td>575840630</td>\n",
       "      <td>47863.47</td>\n",
       "    </tr>\n",
       "    <tr>\n",
       "      <th>4</th>\n",
       "      <td>570485315</td>\n",
       "      <td>51016.16</td>\n",
       "    </tr>\n",
       "    <tr>\n",
       "      <th>5</th>\n",
       "      <td>536404688</td>\n",
       "      <td>47026.35</td>\n",
       "    </tr>\n",
       "    <tr>\n",
       "      <th>6</th>\n",
       "      <td>419669904</td>\n",
       "      <td>37018.74</td>\n",
       "    </tr>\n",
       "    <tr>\n",
       "      <th>7</th>\n",
       "      <td>325101326</td>\n",
       "      <td>29117.98</td>\n",
       "    </tr>\n",
       "    <tr>\n",
       "      <th>8</th>\n",
       "      <td>372370345</td>\n",
       "      <td>34095.43</td>\n",
       "    </tr>\n",
       "    <tr>\n",
       "      <th>9</th>\n",
       "      <td>429132047</td>\n",
       "      <td>40437.07</td>\n",
       "    </tr>\n",
       "    <tr>\n",
       "      <th>10</th>\n",
       "      <td>669944850</td>\n",
       "      <td>57091.10</td>\n",
       "    </tr>\n",
       "    <tr>\n",
       "      <th>11</th>\n",
       "      <td>653709544</td>\n",
       "      <td>50067.88</td>\n",
       "    </tr>\n",
       "    <tr>\n",
       "      <th>12</th>\n",
       "      <td>507487249</td>\n",
       "      <td>38139.75</td>\n",
       "    </tr>\n",
       "    <tr>\n",
       "      <th rowspan=\"12\" valign=\"top\">2013</th>\n",
       "      <th>1</th>\n",
       "      <td>429609340</td>\n",
       "      <td>36242.39</td>\n",
       "    </tr>\n",
       "    <tr>\n",
       "      <th>2</th>\n",
       "      <td>392916595</td>\n",
       "      <td>34266.29</td>\n",
       "    </tr>\n",
       "    <tr>\n",
       "      <th>3</th>\n",
       "      <td>559607601</td>\n",
       "      <td>44843.61</td>\n",
       "    </tr>\n",
       "    <tr>\n",
       "      <th>4</th>\n",
       "      <td>613062187</td>\n",
       "      <td>49128.92</td>\n",
       "    </tr>\n",
       "    <tr>\n",
       "      <th>5</th>\n",
       "      <td>667088624</td>\n",
       "      <td>52813.68</td>\n",
       "    </tr>\n",
       "    <tr>\n",
       "      <th>6</th>\n",
       "      <td>661656844</td>\n",
       "      <td>47602.82</td>\n",
       "    </tr>\n",
       "    <tr>\n",
       "      <th>7</th>\n",
       "      <td>469574471</td>\n",
       "      <td>36407.34</td>\n",
       "    </tr>\n",
       "    <tr>\n",
       "      <th>8</th>\n",
       "      <td>412525030</td>\n",
       "      <td>34619.20</td>\n",
       "    </tr>\n",
       "    <tr>\n",
       "      <th>9</th>\n",
       "      <td>524675411</td>\n",
       "      <td>43154.77</td>\n",
       "    </tr>\n",
       "    <tr>\n",
       "      <th>10</th>\n",
       "      <td>422586700</td>\n",
       "      <td>34968.90</td>\n",
       "    </tr>\n",
       "    <tr>\n",
       "      <th>11</th>\n",
       "      <td>587888280</td>\n",
       "      <td>44776.11</td>\n",
       "    </tr>\n",
       "    <tr>\n",
       "      <th>12</th>\n",
       "      <td>422652432</td>\n",
       "      <td>37791.98</td>\n",
       "    </tr>\n",
       "  </tbody>\n",
       "</table>\n",
       "</div>"
      ],
      "text/plain": [
       "                Value  Quantity\n",
       "Year Month                     \n",
       "2010 1      213491699  24509.39\n",
       "     2      369691255  28169.21\n",
       "     3      366320313  38570.85\n",
       "     4      295998630  26167.71\n",
       "     5      276128201  27279.54\n",
       "     6      359969080  36467.29\n",
       "     7      324644741  33966.92\n",
       "     8      262248435  28625.22\n",
       "     9      243684078  28376.17\n",
       "     10     262918964  30771.69\n",
       "     11     274076709  30038.96\n",
       "     12     356120145  35253.90\n",
       "2011 1      273119192  33292.65\n",
       "     2      280117970  29394.98\n",
       "     3      402866471  38637.04\n",
       "     4      393294789  36034.38\n",
       "     5      407741234  39394.22\n",
       "     6      443525779  42255.28\n",
       "     7      528920545  47376.16\n",
       "     8      433289957  42489.28\n",
       "     9      378474679  35038.46\n",
       "     10     467080731  40709.41\n",
       "     11     567188670  43098.38\n",
       "     12     501696466  39117.02\n",
       "2012 1      502566534  43807.99\n",
       "     2      550963207  45292.90\n",
       "     3      575840630  47863.47\n",
       "     4      570485315  51016.16\n",
       "     5      536404688  47026.35\n",
       "     6      419669904  37018.74\n",
       "     7      325101326  29117.98\n",
       "     8      372370345  34095.43\n",
       "     9      429132047  40437.07\n",
       "     10     669944850  57091.10\n",
       "     11     653709544  50067.88\n",
       "     12     507487249  38139.75\n",
       "2013 1      429609340  36242.39\n",
       "     2      392916595  34266.29\n",
       "     3      559607601  44843.61\n",
       "     4      613062187  49128.92\n",
       "     5      667088624  52813.68\n",
       "     6      661656844  47602.82\n",
       "     7      469574471  36407.34\n",
       "     8      412525030  34619.20\n",
       "     9      524675411  43154.77\n",
       "     10     422586700  34968.90\n",
       "     11     587888280  44776.11\n",
       "     12     422652432  37791.98"
      ]
     },
     "execution_count": 29,
     "metadata": {},
     "output_type": "execute_result"
    }
   ],
   "source": [
    "avg_imp.loc[2010 : 2013]"
   ]
  },
  {
   "cell_type": "code",
   "execution_count": 52,
   "metadata": {},
   "outputs": [
    {
     "data": {
      "text/html": [
       "<div>\n",
       "<style scoped>\n",
       "    .dataframe tbody tr th:only-of-type {\n",
       "        vertical-align: middle;\n",
       "    }\n",
       "\n",
       "    .dataframe tbody tr th {\n",
       "        vertical-align: top;\n",
       "    }\n",
       "\n",
       "    .dataframe thead th {\n",
       "        text-align: right;\n",
       "    }\n",
       "</style>\n",
       "<table border=\"1\" class=\"dataframe\">\n",
       "  <thead>\n",
       "    <tr style=\"text-align: right;\">\n",
       "      <th></th>\n",
       "      <th>Region</th>\n",
       "      <th>Country Code</th>\n",
       "      <th>Country</th>\n",
       "      <th>Date</th>\n",
       "      <th>Year</th>\n",
       "      <th>Month</th>\n",
       "      <th>Meat Type</th>\n",
       "      <th>Description</th>\n",
       "      <th>Quantity</th>\n",
       "      <th>Value</th>\n",
       "    </tr>\n",
       "  </thead>\n",
       "  <tbody>\n",
       "    <tr>\n",
       "      <th>170</th>\n",
       "      <td>AFRICA</td>\n",
       "      <td>NAM</td>\n",
       "      <td>Namibia</td>\n",
       "      <td>2010-02-01</td>\n",
       "      <td>2010</td>\n",
       "      <td>2</td>\n",
       "      <td>Beef - Frozen</td>\n",
       "      <td>Boneless</td>\n",
       "      <td>229.89</td>\n",
       "      <td>91911846</td>\n",
       "    </tr>\n",
       "    <tr>\n",
       "      <th>4343</th>\n",
       "      <td>AMERICA</td>\n",
       "      <td>BR</td>\n",
       "      <td>Brazil</td>\n",
       "      <td>2011-12-01</td>\n",
       "      <td>2011</td>\n",
       "      <td>12</td>\n",
       "      <td>Chicken</td>\n",
       "      <td>Mechanically deboned meat</td>\n",
       "      <td>9423.34</td>\n",
       "      <td>46232496</td>\n",
       "    </tr>\n",
       "    <tr>\n",
       "      <th>7145</th>\n",
       "      <td>AMERICA</td>\n",
       "      <td>BR</td>\n",
       "      <td>Brazil</td>\n",
       "      <td>2012-11-01</td>\n",
       "      <td>2012</td>\n",
       "      <td>11</td>\n",
       "      <td>Chicken</td>\n",
       "      <td>Other</td>\n",
       "      <td>4023.44</td>\n",
       "      <td>56493358</td>\n",
       "    </tr>\n",
       "    <tr>\n",
       "      <th>4825</th>\n",
       "      <td>EUROPE</td>\n",
       "      <td>GB</td>\n",
       "      <td>United Kingdom</td>\n",
       "      <td>2013-11-01</td>\n",
       "      <td>2013</td>\n",
       "      <td>11</td>\n",
       "      <td>Chicken</td>\n",
       "      <td>Other</td>\n",
       "      <td>4830.35</td>\n",
       "      <td>73755294</td>\n",
       "    </tr>\n",
       "    <tr>\n",
       "      <th>10564</th>\n",
       "      <td>EUROPE</td>\n",
       "      <td>NL</td>\n",
       "      <td>Netherlands</td>\n",
       "      <td>2014-05-01</td>\n",
       "      <td>2014</td>\n",
       "      <td>5</td>\n",
       "      <td>Chicken</td>\n",
       "      <td>Other</td>\n",
       "      <td>5631.13</td>\n",
       "      <td>87305550</td>\n",
       "    </tr>\n",
       "    <tr>\n",
       "      <th>10454</th>\n",
       "      <td>EUROPE</td>\n",
       "      <td>NL</td>\n",
       "      <td>Netherlands</td>\n",
       "      <td>2015-09-01</td>\n",
       "      <td>2015</td>\n",
       "      <td>9</td>\n",
       "      <td>Chicken</td>\n",
       "      <td>Leg quarters</td>\n",
       "      <td>5843.26</td>\n",
       "      <td>85340554</td>\n",
       "    </tr>\n",
       "    <tr>\n",
       "      <th>15960</th>\n",
       "      <td>EUROPE</td>\n",
       "      <td>NL</td>\n",
       "      <td>Netherlands</td>\n",
       "      <td>2016-11-01</td>\n",
       "      <td>2016</td>\n",
       "      <td>11</td>\n",
       "      <td>Chicken</td>\n",
       "      <td>Leg quarters</td>\n",
       "      <td>5134.15</td>\n",
       "      <td>77444175</td>\n",
       "    </tr>\n",
       "    <tr>\n",
       "      <th>17917</th>\n",
       "      <td>AMERICA</td>\n",
       "      <td>BR</td>\n",
       "      <td>Brazil</td>\n",
       "      <td>2017-07-01</td>\n",
       "      <td>2017</td>\n",
       "      <td>7</td>\n",
       "      <td>Chicken</td>\n",
       "      <td>Mechanically deboned meat</td>\n",
       "      <td>15411.18</td>\n",
       "      <td>121310429</td>\n",
       "    </tr>\n",
       "    <tr>\n",
       "      <th>22984</th>\n",
       "      <td>AMERICA</td>\n",
       "      <td>BR</td>\n",
       "      <td>Brazil</td>\n",
       "      <td>2018-08-01</td>\n",
       "      <td>2018</td>\n",
       "      <td>8</td>\n",
       "      <td>Chicken</td>\n",
       "      <td>Leg quarters</td>\n",
       "      <td>8431.41</td>\n",
       "      <td>117873924</td>\n",
       "    </tr>\n",
       "    <tr>\n",
       "      <th>19307</th>\n",
       "      <td>AMERICA</td>\n",
       "      <td>BR</td>\n",
       "      <td>Brazil</td>\n",
       "      <td>2019-05-01</td>\n",
       "      <td>2019</td>\n",
       "      <td>5</td>\n",
       "      <td>Chicken</td>\n",
       "      <td>Mechanically deboned meat</td>\n",
       "      <td>14234.43</td>\n",
       "      <td>107459170</td>\n",
       "    </tr>\n",
       "    <tr>\n",
       "      <th>25348</th>\n",
       "      <td>AMERICA</td>\n",
       "      <td>BR</td>\n",
       "      <td>Brazil</td>\n",
       "      <td>2020-10-01</td>\n",
       "      <td>2020</td>\n",
       "      <td>10</td>\n",
       "      <td>Chicken</td>\n",
       "      <td>Mechanically deboned meat</td>\n",
       "      <td>15114.08</td>\n",
       "      <td>152195768</td>\n",
       "    </tr>\n",
       "    <tr>\n",
       "      <th>29590</th>\n",
       "      <td>AMERICA</td>\n",
       "      <td>BR</td>\n",
       "      <td>Brazil</td>\n",
       "      <td>2021-10-01</td>\n",
       "      <td>2021</td>\n",
       "      <td>10</td>\n",
       "      <td>Chicken</td>\n",
       "      <td>Mechanically deboned meat</td>\n",
       "      <td>11192.99</td>\n",
       "      <td>145580338</td>\n",
       "    </tr>\n",
       "  </tbody>\n",
       "</table>\n",
       "</div>"
      ],
      "text/plain": [
       "        Region Country Code         Country       Date  Year Month  \\\n",
       "170     AFRICA          NAM         Namibia 2010-02-01  2010     2   \n",
       "4343   AMERICA           BR          Brazil 2011-12-01  2011    12   \n",
       "7145   AMERICA           BR          Brazil 2012-11-01  2012    11   \n",
       "4825    EUROPE           GB  United Kingdom 2013-11-01  2013    11   \n",
       "10564   EUROPE           NL     Netherlands 2014-05-01  2014     5   \n",
       "10454   EUROPE           NL     Netherlands 2015-09-01  2015     9   \n",
       "15960   EUROPE           NL     Netherlands 2016-11-01  2016    11   \n",
       "17917  AMERICA           BR          Brazil 2017-07-01  2017     7   \n",
       "22984  AMERICA           BR          Brazil 2018-08-01  2018     8   \n",
       "19307  AMERICA           BR          Brazil 2019-05-01  2019     5   \n",
       "25348  AMERICA           BR          Brazil 2020-10-01  2020    10   \n",
       "29590  AMERICA           BR          Brazil 2021-10-01  2021    10   \n",
       "\n",
       "           Meat Type                Description  Quantity      Value  \n",
       "170    Beef - Frozen                   Boneless    229.89   91911846  \n",
       "4343         Chicken  Mechanically deboned meat   9423.34   46232496  \n",
       "7145         Chicken                      Other   4023.44   56493358  \n",
       "4825         Chicken                      Other   4830.35   73755294  \n",
       "10564        Chicken                      Other   5631.13   87305550  \n",
       "10454        Chicken               Leg quarters   5843.26   85340554  \n",
       "15960        Chicken               Leg quarters   5134.15   77444175  \n",
       "17917        Chicken  Mechanically deboned meat  15411.18  121310429  \n",
       "22984        Chicken               Leg quarters   8431.41  117873924  \n",
       "19307        Chicken  Mechanically deboned meat  14234.43  107459170  \n",
       "25348        Chicken  Mechanically deboned meat  15114.08  152195768  \n",
       "29590        Chicken  Mechanically deboned meat  11192.99  145580338  "
      ]
     },
     "execution_count": 52,
     "metadata": {},
     "output_type": "execute_result"
    }
   ],
   "source": [
    "df.loc[df.groupby('Year')['Value'].idxmax()]"
   ]
  },
  {
   "cell_type": "code",
   "execution_count": 154,
   "metadata": {},
   "outputs": [],
   "source": [
    "df1 = df.groupby(\n",
    "    ['Year', 'Month'])['Value'].sum()"
   ]
  },
  {
   "cell_type": "code",
   "execution_count": 142,
   "metadata": {},
   "outputs": [
    {
     "data": {
      "text/plain": [
       "Year  Month\n",
       "2010  1        213491699\n",
       "      2        369691255\n",
       "      3        366320313\n",
       "      4        295998630\n",
       "      5        276128201\n",
       "                 ...    \n",
       "2021  8        737528857\n",
       "      9        653737902\n",
       "      10       698801982\n",
       "      11               0\n",
       "      12               0\n",
       "Name: Value, Length: 144, dtype: int64"
      ]
     },
     "execution_count": 142,
     "metadata": {},
     "output_type": "execute_result"
    }
   ],
   "source": [
    "df1"
   ]
  },
  {
   "cell_type": "code",
   "execution_count": 143,
   "metadata": {},
   "outputs": [],
   "source": [
    "max_value = df1.loc[df1.groupby('Year').idxmax()]"
   ]
  },
  {
   "cell_type": "code",
   "execution_count": 144,
   "metadata": {},
   "outputs": [
    {
     "data": {
      "text/plain": [
       "Year  Month\n",
       "2010  2        369691255\n",
       "2011  11       567188670\n",
       "2012  10       669944850\n",
       "2013  5        667088624\n",
       "2014  6        644313803\n",
       "2015  6        719497035\n",
       "2016  6        802883492\n",
       "2017  3        918285298\n",
       "2018  8        992228360\n",
       "2019  6        841617651\n",
       "2020  10       694801226\n",
       "2021  3        745598809\n",
       "Name: Value, dtype: int64"
      ]
     },
     "execution_count": 144,
     "metadata": {},
     "output_type": "execute_result"
    }
   ],
   "source": [
    "max_value"
   ]
  },
  {
   "cell_type": "code",
   "execution_count": 189,
   "metadata": {},
   "outputs": [
    {
     "data": {
      "text/plain": [
       "<AxesSubplot:xlabel='Year,Month'>"
      ]
     },
     "execution_count": 189,
     "metadata": {},
     "output_type": "execute_result"
    },
    {
     "data": {
      "image/png": "[encoded data removed]",
      "text/plain": [
       "<Figure size 432x288 with 1 Axes>"
      ]
     },
     "metadata": {
      "needs_background": "light"
     },
     "output_type": "display_data"
    }
   ],
   "source": [
    "max_value.plot()"
   ]
  },
  {
   "cell_type": "code",
   "execution_count": 145,
   "metadata": {},
   "outputs": [],
   "source": [
    "min_value = df1.loc[df1.groupby('Year').idxmin()]"
   ]
  },
  {
   "cell_type": "code",
   "execution_count": 146,
   "metadata": {},
   "outputs": [
    {
     "data": {
      "text/plain": [
       "Year  Month\n",
       "2010  1        213491699\n",
       "2011  1        273119192\n",
       "2012  7        325101326\n",
       "2013  2        392916595\n",
       "2014  2        325896736\n",
       "2015  1        423592963\n",
       "2016  2        456472048\n",
       "2017  1        524076314\n",
       "2018  12       597918297\n",
       "2019  9        582911459\n",
       "2020  6        432213923\n",
       "2021  11               0\n",
       "Name: Value, dtype: int64"
      ]
     },
     "execution_count": 146,
     "metadata": {},
     "output_type": "execute_result"
    }
   ],
   "source": [
    "min_value"
   ]
  },
  {
   "cell_type": "code",
   "execution_count": 188,
   "metadata": {},
   "outputs": [
    {
     "data": {
      "text/plain": [
       "<AxesSubplot:xlabel='Year,Month'>"
      ]
     },
     "execution_count": 188,
     "metadata": {},
     "output_type": "execute_result"
    },
    {
     "data": {
      "image/png": "[encoded data removed]",
      "text/plain": [
       "<Figure size 432x288 with 1 Axes>"
      ]
     },
     "metadata": {
      "needs_background": "light"
     },
     "output_type": "display_data"
    }
   ],
   "source": [
    "min_value.plot()"
   ]
  },
  {
   "cell_type": "code",
   "execution_count": 147,
   "metadata": {},
   "outputs": [],
   "source": [
    "df2 = df.groupby(\n",
    "    ['Year', 'Month'])['Quantity'].sum()"
   ]
  },
  {
   "cell_type": "code",
   "execution_count": 149,
   "metadata": {},
   "outputs": [],
   "source": [
    "max_qty = df2.loc[df2.groupby('Year').idxmax()]"
   ]
  },
  {
   "cell_type": "code",
   "execution_count": 150,
   "metadata": {},
   "outputs": [
    {
     "data": {
      "text/plain": [
       "Year  Month\n",
       "2010  3        38570.85\n",
       "2011  7        47376.16\n",
       "2012  10       57091.10\n",
       "2013  5        52813.68\n",
       "2014  6        49342.72\n",
       "2015  7        58972.38\n",
       "2016  3        66765.79\n",
       "2017  3        76022.62\n",
       "2018  8        72664.80\n",
       "2019  6        64843.27\n",
       "2020  9        54661.38\n",
       "2021  3        56599.08\n",
       "Name: Quantity, dtype: float64"
      ]
     },
     "execution_count": 150,
     "metadata": {},
     "output_type": "execute_result"
    }
   ],
   "source": [
    "max_qty"
   ]
  },
  {
   "cell_type": "code",
   "execution_count": 161,
   "metadata": {},
   "outputs": [
    {
     "data": {
      "text/plain": [
       "<AxesSubplot:xlabel='Year,Month'>"
      ]
     },
     "execution_count": 161,
     "metadata": {},
     "output_type": "execute_result"
    },
    {
     "data": {
      "image/png": "[encoded data removed]",
      "text/plain": [
       "<Figure size 432x288 with 1 Axes>"
      ]
     },
     "metadata": {
      "needs_background": "light"
     },
     "output_type": "display_data"
    }
   ],
   "source": [
    "max_qty.plot()"
   ]
  },
  {
   "cell_type": "code",
   "execution_count": 162,
   "metadata": {},
   "outputs": [
    {
     "data": {
      "text/plain": [
       "<AxesSubplot:xlabel='Year,Month'>"
      ]
     },
     "execution_count": 162,
     "metadata": {},
     "output_type": "execute_result"
    },
    {
     "data": {
      "image/png": "[encoded data removed]",
      "text/plain": [
       "<Figure size 432x288 with 1 Axes>"
      ]
     },
     "metadata": {
      "needs_background": "light"
     },
     "output_type": "display_data"
    }
   ],
   "source": [
    "min_qty.plot()"
   ]
  },
  {
   "cell_type": "code",
   "execution_count": 151,
   "metadata": {},
   "outputs": [],
   "source": [
    "min_qty = df2.loc[df2.groupby('Year').idxmin()]"
   ]
  },
  {
   "cell_type": "code",
   "execution_count": 152,
   "metadata": {},
   "outputs": [
    {
     "data": {
      "text/plain": [
       "Year  Month\n",
       "2010  1        24509.39\n",
       "2011  2        29394.98\n",
       "2012  7        29117.98\n",
       "2013  2        34266.29\n",
       "2014  2        28495.04\n",
       "2015  1        34863.51\n",
       "2016  12       40789.66\n",
       "2017  1        44234.51\n",
       "2018  12       45827.13\n",
       "2019  9        43590.57\n",
       "2020  6        39458.95\n",
       "2021  11           0.00\n",
       "Name: Quantity, dtype: float64"
      ]
     },
     "execution_count": 152,
     "metadata": {},
     "output_type": "execute_result"
    }
   ],
   "source": [
    "min_qty"
   ]
  },
  {
   "cell_type": "code",
   "execution_count": 187,
   "metadata": {},
   "outputs": [
    {
     "data": {
      "text/html": [
       "<div>\n",
       "<style scoped>\n",
       "    .dataframe tbody tr th:only-of-type {\n",
       "        vertical-align: middle;\n",
       "    }\n",
       "\n",
       "    .dataframe tbody tr th {\n",
       "        vertical-align: top;\n",
       "    }\n",
       "\n",
       "    .dataframe thead th {\n",
       "        text-align: right;\n",
       "    }\n",
       "</style>\n",
       "<table border=\"1\" class=\"dataframe\">\n",
       "  <thead>\n",
       "    <tr style=\"text-align: right;\">\n",
       "      <th></th>\n",
       "      <th>Region</th>\n",
       "      <th>Country Code</th>\n",
       "      <th>Country</th>\n",
       "      <th>Date</th>\n",
       "      <th>Year</th>\n",
       "      <th>Month</th>\n",
       "      <th>Meat Type</th>\n",
       "      <th>Description</th>\n",
       "      <th>Quantity</th>\n",
       "      <th>Value</th>\n",
       "    </tr>\n",
       "  </thead>\n",
       "  <tbody>\n",
       "    <tr>\n",
       "      <th>25254</th>\n",
       "      <td>AFRICA</td>\n",
       "      <td>SZ</td>\n",
       "      <td>Eswatini</td>\n",
       "      <td>2021-07-01</td>\n",
       "      <td>2021</td>\n",
       "      <td>7</td>\n",
       "      <td>Beef - Frozen</td>\n",
       "      <td>Carcasses</td>\n",
       "      <td>0.0</td>\n",
       "      <td>100</td>\n",
       "    </tr>\n",
       "    <tr>\n",
       "      <th>25563</th>\n",
       "      <td>AFRICA</td>\n",
       "      <td>ZA</td>\n",
       "      <td>South Africa</td>\n",
       "      <td>2021-08-01</td>\n",
       "      <td>2021</td>\n",
       "      <td>8</td>\n",
       "      <td>Beef - Frozen</td>\n",
       "      <td>Other</td>\n",
       "      <td>0.0</td>\n",
       "      <td>720</td>\n",
       "    </tr>\n",
       "    <tr>\n",
       "      <th>25672</th>\n",
       "      <td>AMERICA</td>\n",
       "      <td>US</td>\n",
       "      <td>United States</td>\n",
       "      <td>2021-08-01</td>\n",
       "      <td>2021</td>\n",
       "      <td>8</td>\n",
       "      <td>Pork</td>\n",
       "      <td>Rib</td>\n",
       "      <td>0.0</td>\n",
       "      <td>165</td>\n",
       "    </tr>\n",
       "    <tr>\n",
       "      <th>26498</th>\n",
       "      <td>ASIA</td>\n",
       "      <td>JP</td>\n",
       "      <td>Japan</td>\n",
       "      <td>2021-05-01</td>\n",
       "      <td>2021</td>\n",
       "      <td>5</td>\n",
       "      <td>Pork</td>\n",
       "      <td>Rib</td>\n",
       "      <td>0.0</td>\n",
       "      <td>92</td>\n",
       "    </tr>\n",
       "    <tr>\n",
       "      <th>26792</th>\n",
       "      <td>AFRICA</td>\n",
       "      <td>SZ</td>\n",
       "      <td>Eswatini</td>\n",
       "      <td>2021-05-01</td>\n",
       "      <td>2021</td>\n",
       "      <td>5</td>\n",
       "      <td>Sheep/Goat</td>\n",
       "      <td>Carcasses</td>\n",
       "      <td>0.0</td>\n",
       "      <td>100</td>\n",
       "    </tr>\n",
       "    <tr>\n",
       "      <th>26847</th>\n",
       "      <td>AMERICA</td>\n",
       "      <td>US</td>\n",
       "      <td>United States</td>\n",
       "      <td>2021-01-01</td>\n",
       "      <td>2021</td>\n",
       "      <td>1</td>\n",
       "      <td>Chicken</td>\n",
       "      <td>Not Cut In Pieces, Fresh Or Chilled</td>\n",
       "      <td>0.0</td>\n",
       "      <td>89</td>\n",
       "    </tr>\n",
       "    <tr>\n",
       "      <th>27027</th>\n",
       "      <td>AMERICA</td>\n",
       "      <td>US</td>\n",
       "      <td>United States</td>\n",
       "      <td>2021-02-01</td>\n",
       "      <td>2021</td>\n",
       "      <td>2</td>\n",
       "      <td>Chicken</td>\n",
       "      <td>Not Cut In Pieces, Fresh Or Chilled</td>\n",
       "      <td>0.0</td>\n",
       "      <td>237</td>\n",
       "    </tr>\n",
       "    <tr>\n",
       "      <th>27032</th>\n",
       "      <td>AMERICA</td>\n",
       "      <td>US</td>\n",
       "      <td>United States</td>\n",
       "      <td>2021-02-01</td>\n",
       "      <td>2021</td>\n",
       "      <td>2</td>\n",
       "      <td>Beef - Frozen</td>\n",
       "      <td>Carcasses</td>\n",
       "      <td>0.0</td>\n",
       "      <td>631</td>\n",
       "    </tr>\n",
       "    <tr>\n",
       "      <th>27049</th>\n",
       "      <td>AFRICA</td>\n",
       "      <td>SZ</td>\n",
       "      <td>Eswatini</td>\n",
       "      <td>2021-06-01</td>\n",
       "      <td>2021</td>\n",
       "      <td>6</td>\n",
       "      <td>Beef - Frozen</td>\n",
       "      <td>Wagyu beef</td>\n",
       "      <td>0.0</td>\n",
       "      <td>100</td>\n",
       "    </tr>\n",
       "    <tr>\n",
       "      <th>27861</th>\n",
       "      <td>AMERICA</td>\n",
       "      <td>US</td>\n",
       "      <td>United States</td>\n",
       "      <td>2021-07-01</td>\n",
       "      <td>2021</td>\n",
       "      <td>7</td>\n",
       "      <td>Chicken</td>\n",
       "      <td>Not Cut In Pieces, Fresh Or Chilled</td>\n",
       "      <td>0.0</td>\n",
       "      <td>203</td>\n",
       "    </tr>\n",
       "    <tr>\n",
       "      <th>28664</th>\n",
       "      <td>ASIA</td>\n",
       "      <td>JP</td>\n",
       "      <td>Japan</td>\n",
       "      <td>2021-07-01</td>\n",
       "      <td>2021</td>\n",
       "      <td>7</td>\n",
       "      <td>Pork</td>\n",
       "      <td>Rib</td>\n",
       "      <td>0.0</td>\n",
       "      <td>1560</td>\n",
       "    </tr>\n",
       "    <tr>\n",
       "      <th>28665</th>\n",
       "      <td>ASIA</td>\n",
       "      <td>JP</td>\n",
       "      <td>Japan</td>\n",
       "      <td>2021-07-01</td>\n",
       "      <td>2021</td>\n",
       "      <td>7</td>\n",
       "      <td>Pork</td>\n",
       "      <td>Other</td>\n",
       "      <td>0.0</td>\n",
       "      <td>153</td>\n",
       "    </tr>\n",
       "    <tr>\n",
       "      <th>28834</th>\n",
       "      <td>AFRICA</td>\n",
       "      <td>SZ</td>\n",
       "      <td>Eswatini</td>\n",
       "      <td>2021-03-01</td>\n",
       "      <td>2021</td>\n",
       "      <td>3</td>\n",
       "      <td>Beef - Frozen</td>\n",
       "      <td>Carcasses</td>\n",
       "      <td>0.0</td>\n",
       "      <td>100</td>\n",
       "    </tr>\n",
       "    <tr>\n",
       "      <th>28914</th>\n",
       "      <td>AMERICA</td>\n",
       "      <td>US</td>\n",
       "      <td>United States</td>\n",
       "      <td>2021-04-01</td>\n",
       "      <td>2021</td>\n",
       "      <td>4</td>\n",
       "      <td>Pork</td>\n",
       "      <td>Rib</td>\n",
       "      <td>0.0</td>\n",
       "      <td>303</td>\n",
       "    </tr>\n",
       "    <tr>\n",
       "      <th>28915</th>\n",
       "      <td>AMERICA</td>\n",
       "      <td>US</td>\n",
       "      <td>United States</td>\n",
       "      <td>2021-04-01</td>\n",
       "      <td>2021</td>\n",
       "      <td>4</td>\n",
       "      <td>Chicken</td>\n",
       "      <td>Not Cut In Pieces, Fresh Or Chilled</td>\n",
       "      <td>0.0</td>\n",
       "      <td>134</td>\n",
       "    </tr>\n",
       "    <tr>\n",
       "      <th>28916</th>\n",
       "      <td>AFRICA</td>\n",
       "      <td>NAM</td>\n",
       "      <td>Namibia</td>\n",
       "      <td>2021-04-01</td>\n",
       "      <td>2021</td>\n",
       "      <td>4</td>\n",
       "      <td>Smoked/In Brine/Salted Meat</td>\n",
       "      <td>Other</td>\n",
       "      <td>0.0</td>\n",
       "      <td>600</td>\n",
       "    </tr>\n",
       "    <tr>\n",
       "      <th>28917</th>\n",
       "      <td>AFRICA</td>\n",
       "      <td>NAM</td>\n",
       "      <td>Namibia</td>\n",
       "      <td>2021-04-01</td>\n",
       "      <td>2021</td>\n",
       "      <td>4</td>\n",
       "      <td>Beef - Fresh</td>\n",
       "      <td>Other</td>\n",
       "      <td>0.0</td>\n",
       "      <td>40</td>\n",
       "    </tr>\n",
       "    <tr>\n",
       "      <th>28930</th>\n",
       "      <td>AMERICA</td>\n",
       "      <td>US</td>\n",
       "      <td>United States</td>\n",
       "      <td>2021-07-01</td>\n",
       "      <td>2021</td>\n",
       "      <td>7</td>\n",
       "      <td>Beef - Fresh</td>\n",
       "      <td>Other</td>\n",
       "      <td>0.0</td>\n",
       "      <td>674</td>\n",
       "    </tr>\n",
       "    <tr>\n",
       "      <th>29430</th>\n",
       "      <td>ASIA</td>\n",
       "      <td>JP</td>\n",
       "      <td>Japan</td>\n",
       "      <td>2021-09-01</td>\n",
       "      <td>2021</td>\n",
       "      <td>9</td>\n",
       "      <td>Pork</td>\n",
       "      <td>Other</td>\n",
       "      <td>0.0</td>\n",
       "      <td>298</td>\n",
       "    </tr>\n",
       "  </tbody>\n",
       "</table>\n",
       "</div>"
      ],
      "text/plain": [
       "        Region Country Code        Country       Date  Year Month  \\\n",
       "25254   AFRICA           SZ       Eswatini 2021-07-01  2021     7   \n",
       "25563   AFRICA           ZA   South Africa 2021-08-01  2021     8   \n",
       "25672  AMERICA           US  United States 2021-08-01  2021     8   \n",
       "26498     ASIA           JP          Japan 2021-05-01  2021     5   \n",
       "26792   AFRICA           SZ       Eswatini 2021-05-01  2021     5   \n",
       "26847  AMERICA           US  United States 2021-01-01  2021     1   \n",
       "27027  AMERICA           US  United States 2021-02-01  2021     2   \n",
       "27032  AMERICA           US  United States 2021-02-01  2021     2   \n",
       "27049   AFRICA           SZ       Eswatini 2021-06-01  2021     6   \n",
       "27861  AMERICA           US  United States 2021-07-01  2021     7   \n",
       "28664     ASIA           JP          Japan 2021-07-01  2021     7   \n",
       "28665     ASIA           JP          Japan 2021-07-01  2021     7   \n",
       "28834   AFRICA           SZ       Eswatini 2021-03-01  2021     3   \n",
       "28914  AMERICA           US  United States 2021-04-01  2021     4   \n",
       "28915  AMERICA           US  United States 2021-04-01  2021     4   \n",
       "28916   AFRICA          NAM        Namibia 2021-04-01  2021     4   \n",
       "28917   AFRICA          NAM        Namibia 2021-04-01  2021     4   \n",
       "28930  AMERICA           US  United States 2021-07-01  2021     7   \n",
       "29430     ASIA           JP          Japan 2021-09-01  2021     9   \n",
       "\n",
       "                         Meat Type                          Description  \\\n",
       "25254                Beef - Frozen                            Carcasses   \n",
       "25563                Beef - Frozen                                Other   \n",
       "25672                         Pork                                  Rib   \n",
       "26498                         Pork                                  Rib   \n",
       "26792                   Sheep/Goat                            Carcasses   \n",
       "26847                      Chicken  Not Cut In Pieces, Fresh Or Chilled   \n",
       "27027                      Chicken  Not Cut In Pieces, Fresh Or Chilled   \n",
       "27032                Beef - Frozen                            Carcasses   \n",
       "27049                Beef - Frozen                           Wagyu beef   \n",
       "27861                      Chicken  Not Cut In Pieces, Fresh Or Chilled   \n",
       "28664                         Pork                                  Rib   \n",
       "28665                         Pork                                Other   \n",
       "28834                Beef - Frozen                            Carcasses   \n",
       "28914                         Pork                                  Rib   \n",
       "28915                      Chicken  Not Cut In Pieces, Fresh Or Chilled   \n",
       "28916  Smoked/In Brine/Salted Meat                                Other   \n",
       "28917                 Beef - Fresh                                Other   \n",
       "28930                 Beef - Fresh                                Other   \n",
       "29430                         Pork                                Other   \n",
       "\n",
       "       Quantity  Value  \n",
       "25254       0.0    100  \n",
       "25563       0.0    720  \n",
       "25672       0.0    165  \n",
       "26498       0.0     92  \n",
       "26792       0.0    100  \n",
       "26847       0.0     89  \n",
       "27027       0.0    237  \n",
       "27032       0.0    631  \n",
       "27049       0.0    100  \n",
       "27861       0.0    203  \n",
       "28664       0.0   1560  \n",
       "28665       0.0    153  \n",
       "28834       0.0    100  \n",
       "28914       0.0    303  \n",
       "28915       0.0    134  \n",
       "28916       0.0    600  \n",
       "28917       0.0     40  \n",
       "28930       0.0    674  \n",
       "29430       0.0    298  "
      ]
     },
     "execution_count": 187,
     "metadata": {},
     "output_type": "execute_result"
    }
   ],
   "source": [
    "df[(df['Year'] == 2021) & (df['Quantity'] == 0.00)] "
   ]
  },
  {
   "cell_type": "code",
   "execution_count": null,
   "metadata": {},
   "outputs": [],
   "source": []
  },
  {
   "cell_type": "code",
   "execution_count": 105,
   "metadata": {},
   "outputs": [
    {
     "ename": "ValueError",
     "evalue": "`axis` must be fewer than the number of dimensions (1)",
     "output_type": "error",
     "traceback": [
      "\u001b[1;31m---------------------------------------------------------------------------\u001b[0m",
      "\u001b[1;31mValueError\u001b[0m                                Traceback (most recent call last)",
      "\u001b[1;32m~\\AppData\\Local\\Temp/ipykernel_8484/2849383756.py\u001b[0m in \u001b[0;36m<module>\u001b[1;34m\u001b[0m\n\u001b[1;32m----> 1\u001b[1;33m \u001b[0mdf2\u001b[0m\u001b[1;33m[\u001b[0m\u001b[1;34m'Value'\u001b[0m\u001b[1;33m]\u001b[0m \u001b[1;33m=\u001b[0m \u001b[0mdf\u001b[0m\u001b[1;33m[\u001b[0m\u001b[1;34m'Value'\u001b[0m\u001b[1;33m]\u001b[0m\u001b[1;33m.\u001b[0m\u001b[0midxmax\u001b[0m\u001b[1;33m(\u001b[0m\u001b[0maxis\u001b[0m\u001b[1;33m=\u001b[0m\u001b[1;36m1\u001b[0m\u001b[1;33m)\u001b[0m\u001b[1;33m\u001b[0m\u001b[1;33m\u001b[0m\u001b[0m\n\u001b[0m",
      "\u001b[1;32m~\\anaconda3\\lib\\site-packages\\pandas\\core\\series.py\u001b[0m in \u001b[0;36midxmax\u001b[1;34m(self, axis, skipna, *args, **kwargs)\u001b[0m\n\u001b[0;32m   2353\u001b[0m         \u001b[0mnan\u001b[0m\u001b[1;33m\u001b[0m\u001b[1;33m\u001b[0m\u001b[0m\n\u001b[0;32m   2354\u001b[0m         \"\"\"\n\u001b[1;32m-> 2355\u001b[1;33m         \u001b[0mi\u001b[0m \u001b[1;33m=\u001b[0m \u001b[0mself\u001b[0m\u001b[1;33m.\u001b[0m\u001b[0margmax\u001b[0m\u001b[1;33m(\u001b[0m\u001b[0maxis\u001b[0m\u001b[1;33m,\u001b[0m \u001b[0mskipna\u001b[0m\u001b[1;33m,\u001b[0m \u001b[1;33m*\u001b[0m\u001b[0margs\u001b[0m\u001b[1;33m,\u001b[0m \u001b[1;33m**\u001b[0m\u001b[0mkwargs\u001b[0m\u001b[1;33m)\u001b[0m\u001b[1;33m\u001b[0m\u001b[1;33m\u001b[0m\u001b[0m\n\u001b[0m\u001b[0;32m   2356\u001b[0m         \u001b[1;32mif\u001b[0m \u001b[0mi\u001b[0m \u001b[1;33m==\u001b[0m \u001b[1;33m-\u001b[0m\u001b[1;36m1\u001b[0m\u001b[1;33m:\u001b[0m\u001b[1;33m\u001b[0m\u001b[1;33m\u001b[0m\u001b[0m\n\u001b[0;32m   2357\u001b[0m             \u001b[1;32mreturn\u001b[0m \u001b[0mnp\u001b[0m\u001b[1;33m.\u001b[0m\u001b[0mnan\u001b[0m\u001b[1;33m\u001b[0m\u001b[1;33m\u001b[0m\u001b[0m\n",
      "\u001b[1;32m~\\anaconda3\\lib\\site-packages\\pandas\\core\\base.py\u001b[0m in \u001b[0;36margmax\u001b[1;34m(self, axis, skipna, *args, **kwargs)\u001b[0m\n\u001b[0;32m    634\u001b[0m         \"\"\"\n\u001b[0;32m    635\u001b[0m         \u001b[0mdelegate\u001b[0m \u001b[1;33m=\u001b[0m \u001b[0mself\u001b[0m\u001b[1;33m.\u001b[0m\u001b[0m_values\u001b[0m\u001b[1;33m\u001b[0m\u001b[1;33m\u001b[0m\u001b[0m\n\u001b[1;32m--> 636\u001b[1;33m         \u001b[0mnv\u001b[0m\u001b[1;33m.\u001b[0m\u001b[0mvalidate_minmax_axis\u001b[0m\u001b[1;33m(\u001b[0m\u001b[0maxis\u001b[0m\u001b[1;33m)\u001b[0m\u001b[1;33m\u001b[0m\u001b[1;33m\u001b[0m\u001b[0m\n\u001b[0m\u001b[0;32m    637\u001b[0m         \u001b[0mskipna\u001b[0m \u001b[1;33m=\u001b[0m \u001b[0mnv\u001b[0m\u001b[1;33m.\u001b[0m\u001b[0mvalidate_argmax_with_skipna\u001b[0m\u001b[1;33m(\u001b[0m\u001b[0mskipna\u001b[0m\u001b[1;33m,\u001b[0m \u001b[0margs\u001b[0m\u001b[1;33m,\u001b[0m \u001b[0mkwargs\u001b[0m\u001b[1;33m)\u001b[0m\u001b[1;33m\u001b[0m\u001b[1;33m\u001b[0m\u001b[0m\n\u001b[0;32m    638\u001b[0m \u001b[1;33m\u001b[0m\u001b[0m\n",
      "\u001b[1;32m~\\anaconda3\\lib\\site-packages\\pandas\\compat\\numpy\\function.py\u001b[0m in \u001b[0;36mvalidate_minmax_axis\u001b[1;34m(axis, ndim)\u001b[0m\n\u001b[0;32m    407\u001b[0m         \u001b[1;32mreturn\u001b[0m\u001b[1;33m\u001b[0m\u001b[1;33m\u001b[0m\u001b[0m\n\u001b[0;32m    408\u001b[0m     \u001b[1;32mif\u001b[0m \u001b[0maxis\u001b[0m \u001b[1;33m>=\u001b[0m \u001b[0mndim\u001b[0m \u001b[1;32mor\u001b[0m \u001b[1;33m(\u001b[0m\u001b[0maxis\u001b[0m \u001b[1;33m<\u001b[0m \u001b[1;36m0\u001b[0m \u001b[1;32mand\u001b[0m \u001b[0mndim\u001b[0m \u001b[1;33m+\u001b[0m \u001b[0maxis\u001b[0m \u001b[1;33m<\u001b[0m \u001b[1;36m0\u001b[0m\u001b[1;33m)\u001b[0m\u001b[1;33m:\u001b[0m\u001b[1;33m\u001b[0m\u001b[1;33m\u001b[0m\u001b[0m\n\u001b[1;32m--> 409\u001b[1;33m         \u001b[1;32mraise\u001b[0m \u001b[0mValueError\u001b[0m\u001b[1;33m(\u001b[0m\u001b[1;34mf\"`axis` must be fewer than the number of dimensions ({ndim})\"\u001b[0m\u001b[1;33m)\u001b[0m\u001b[1;33m\u001b[0m\u001b[1;33m\u001b[0m\u001b[0m\n\u001b[0m",
      "\u001b[1;31mValueError\u001b[0m: `axis` must be fewer than the number of dimensions (1)"
     ]
    }
   ],
   "source": [
    "df2['Value'] = df['Value'].idxmax(axis=1)"
   ]
  },
  {
   "cell_type": "code",
   "execution_count": 104,
   "metadata": {},
   "outputs": [
    {
     "data": {
      "text/plain": [
       "Year\n",
       "2010      (2010, 2)\n",
       "2011     (2011, 11)\n",
       "2012     (2012, 10)\n",
       "2013      (2013, 5)\n",
       "2014      (2014, 6)\n",
       "2015      (2015, 6)\n",
       "2016      (2016, 6)\n",
       "2017      (2017, 3)\n",
       "2018      (2018, 8)\n",
       "2019      (2019, 6)\n",
       "2020     (2020, 10)\n",
       "2021      (2021, 3)\n",
       "Value         25348\n",
       "Name: Value, dtype: object"
      ]
     },
     "execution_count": 104,
     "metadata": {},
     "output_type": "execute_result"
    }
   ],
   "source": [
    "df2"
   ]
  },
  {
   "cell_type": "code",
   "execution_count": 30,
   "metadata": {},
   "outputs": [
    {
     "data": {
      "text/html": [
       "<div>\n",
       "<style scoped>\n",
       "    .dataframe tbody tr th:only-of-type {\n",
       "        vertical-align: middle;\n",
       "    }\n",
       "\n",
       "    .dataframe tbody tr th {\n",
       "        vertical-align: top;\n",
       "    }\n",
       "\n",
       "    .dataframe thead th {\n",
       "        text-align: right;\n",
       "    }\n",
       "</style>\n",
       "<table border=\"1\" class=\"dataframe\">\n",
       "  <thead>\n",
       "    <tr style=\"text-align: right;\">\n",
       "      <th></th>\n",
       "      <th></th>\n",
       "      <th>Value</th>\n",
       "      <th>Quantity</th>\n",
       "    </tr>\n",
       "    <tr>\n",
       "      <th>Year</th>\n",
       "      <th>Month</th>\n",
       "      <th></th>\n",
       "      <th></th>\n",
       "    </tr>\n",
       "  </thead>\n",
       "  <tbody>\n",
       "    <tr>\n",
       "      <th rowspan=\"5\" valign=\"top\">2010</th>\n",
       "      <th>1</th>\n",
       "      <td>2.13e+08</td>\n",
       "      <td>24509.39</td>\n",
       "    </tr>\n",
       "    <tr>\n",
       "      <th>2</th>\n",
       "      <td>3.70e+08</td>\n",
       "      <td>28169.21</td>\n",
       "    </tr>\n",
       "    <tr>\n",
       "      <th>3</th>\n",
       "      <td>3.66e+08</td>\n",
       "      <td>38570.85</td>\n",
       "    </tr>\n",
       "    <tr>\n",
       "      <th>4</th>\n",
       "      <td>2.96e+08</td>\n",
       "      <td>26167.71</td>\n",
       "    </tr>\n",
       "    <tr>\n",
       "      <th>5</th>\n",
       "      <td>2.76e+08</td>\n",
       "      <td>27279.54</td>\n",
       "    </tr>\n",
       "    <tr>\n",
       "      <th>...</th>\n",
       "      <th>...</th>\n",
       "      <td>...</td>\n",
       "      <td>...</td>\n",
       "    </tr>\n",
       "    <tr>\n",
       "      <th rowspan=\"5\" valign=\"top\">2021</th>\n",
       "      <th>8</th>\n",
       "      <td>7.38e+08</td>\n",
       "      <td>44605.23</td>\n",
       "    </tr>\n",
       "    <tr>\n",
       "      <th>9</th>\n",
       "      <td>6.54e+08</td>\n",
       "      <td>40492.18</td>\n",
       "    </tr>\n",
       "    <tr>\n",
       "      <th>10</th>\n",
       "      <td>6.99e+08</td>\n",
       "      <td>41927.30</td>\n",
       "    </tr>\n",
       "    <tr>\n",
       "      <th>11</th>\n",
       "      <td>0.00e+00</td>\n",
       "      <td>0.00</td>\n",
       "    </tr>\n",
       "    <tr>\n",
       "      <th>12</th>\n",
       "      <td>0.00e+00</td>\n",
       "      <td>0.00</td>\n",
       "    </tr>\n",
       "  </tbody>\n",
       "</table>\n",
       "<p>144 rows × 2 columns</p>\n",
       "</div>"
      ],
      "text/plain": [
       "               Value  Quantity\n",
       "Year Month                    \n",
       "2010 1      2.13e+08  24509.39\n",
       "     2      3.70e+08  28169.21\n",
       "     3      3.66e+08  38570.85\n",
       "     4      2.96e+08  26167.71\n",
       "     5      2.76e+08  27279.54\n",
       "...              ...       ...\n",
       "2021 8      7.38e+08  44605.23\n",
       "     9      6.54e+08  40492.18\n",
       "     10     6.99e+08  41927.30\n",
       "     11     0.00e+00      0.00\n",
       "     12     0.00e+00      0.00\n",
       "\n",
       "[144 rows x 2 columns]"
      ]
     },
     "execution_count": 30,
     "metadata": {},
     "output_type": "execute_result"
    }
   ],
   "source": [
    "avg_imp.groupby(['Year', 'Month']).apply(lambda x: x.max())"
   ]
  },
  {
   "cell_type": "code",
   "execution_count": 233,
   "metadata": {},
   "outputs": [
    {
     "data": {
      "text/plain": [
       "count          142.000000\n",
       "mean     576353492.197183\n",
       "std      163155199.648797\n",
       "min      213491699.000000\n",
       "25%      456934899.250000\n",
       "50%      580991559.500000\n",
       "75%      697801793.000000\n",
       "max      992228360.000000\n",
       "Name: Value, dtype: object"
      ]
     },
     "execution_count": 233,
     "metadata": {},
     "output_type": "execute_result"
    }
   ],
   "source": [
    "avg_imp[\"Value\"].describe().apply(lambda x: format(x, 'f'))"
   ]
  },
  {
   "cell_type": "code",
   "execution_count": 229,
   "metadata": {},
   "outputs": [
    {
     "data": {
      "text/plain": [
       "Value       6.96e+09\n",
       "Quantity    5.70e+05\n",
       "dtype: float64"
      ]
     },
     "execution_count": 229,
     "metadata": {},
     "output_type": "execute_result"
    }
   ],
   "source": [
    "avg_imp.loc[2020].sum()"
   ]
  },
  {
   "cell_type": "code",
   "execution_count": 133,
   "metadata": {},
   "outputs": [],
   "source": [
    "mpl.style.use(['ggplot'])"
   ]
  },
  {
   "cell_type": "code",
   "execution_count": 152,
   "metadata": {},
   "outputs": [
    {
     "data": {
      "text/plain": [
       "Year\n",
       "2010    3605292250\n",
       "2011    5077316483\n",
       "2012    6113675639\n",
       "2013    6163843515\n",
       "2014    6111269854\n",
       "2015    7041306185\n",
       "2016    7801591499\n",
       "2017    9008130461\n",
       "2018    9134609207\n",
       "2019    8451869934\n",
       "Name: Value, dtype: int64"
      ]
     },
     "execution_count": 152,
     "metadata": {},
     "output_type": "execute_result"
    }
   ],
   "source": [
    "imports = df.groupby('Year')['Value'].sum().sort_index()\n",
    "imports.head(10)"
   ]
  },
  {
   "cell_type": "code",
   "execution_count": 139,
   "metadata": {},
   "outputs": [
    {
     "data": {
      "text/plain": [
       "<AxesSubplot:xlabel='Year'>"
      ]
     },
     "execution_count": 139,
     "metadata": {},
     "output_type": "execute_result"
    },
    {
     "data": {
      "image/png": "[encoded data removed]",
      "text/plain": [
       "<Figure size 432x288 with 1 Axes>"
      ]
     },
     "metadata": {},
     "output_type": "display_data"
    }
   ],
   "source": [
    "imports.plot()"
   ]
  },
  {
   "cell_type": "code",
   "execution_count": 107,
   "metadata": {},
   "outputs": [
    {
     "data": {
      "image/png": "[encoded data removed]",
      "text/plain": [
       "<Figure size 432x288 with 1 Axes>"
      ]
     },
     "metadata": {},
     "output_type": "display_data"
    }
   ],
   "source": [
    "imports.plot(kind='line')\n",
    "\n",
    "plt.title('South Africa Meat Imports', pad=6.0, fontdict={'color':'k'})\n",
    "plt.ylabel('Value in USD', labelpad=4.0)\n",
    "plt.xlabel('Years', labelpad=4.0)\n",
    "plt.show()"
   ]
  },
  {
   "cell_type": "markdown",
   "metadata": {},
   "source": [
    "As we can see, imports had been increased from 2014 until 2018. After that, we can notice a declining trend that has not changed since then. Now, although we cannot flag precisely determine the reasons for this current dent on imports, it has certainly coincided with political events. In February 2018, president Jacob Zuma resigned, and, since then, the country's political profile has been deteriorating. Let's annotate this event in the plot."
   ]
  },
  {
   "cell_type": "code",
   "execution_count": 108,
   "metadata": {},
   "outputs": [
    {
     "data": {
      "image/png": "[encoded data removed]",
      "text/plain": [
       "<Figure size 576x432 with 1 Axes>"
      ]
     },
     "metadata": {},
     "output_type": "display_data"
    }
   ],
   "source": [
    "imports.plot(kind='line', figsize=(8,6))\n",
    "\n",
    "plt.ylabel('Value in USD', labelpad=16)\n",
    "plt.xlabel('Years', labelpad=16)\n",
    "plt.title('South Africa Meat Imports', \n",
    "          fontdict={'color':'k', 'fontsize':22})\n",
    "\n",
    "plt.ScalarFormatter(useOffset=False)\n",
    "\n",
    "plt.show()"
   ]
  },
  {
   "cell_type": "code",
   "execution_count": 155,
   "metadata": {},
   "outputs": [
    {
     "data": {
      "text/plain": [
       "['2010',\n",
       " '2011',\n",
       " '2012',\n",
       " '2013',\n",
       " '2014',\n",
       " '2015',\n",
       " '2016',\n",
       " '2017',\n",
       " '2018',\n",
       " '2019',\n",
       " '2020',\n",
       " '2021']"
      ]
     },
     "execution_count": 155,
     "metadata": {},
     "output_type": "execute_result"
    }
   ],
   "source": [
    "years = list(map(str, range(2010, 2022)))\n",
    "years"
   ]
  },
  {
   "cell_type": "code",
   "execution_count": 171,
   "metadata": {},
   "outputs": [
    {
     "name": "stdout",
     "output_type": "stream",
     "text": [
      "<class 'pandas.core.frame.DataFrame'>\n",
      "Int64Index: 29650 entries, 0 to 29649\n",
      "Data columns (total 9 columns):\n",
      " #   Column        Non-Null Count  Dtype   \n",
      "---  ------        --------------  -----   \n",
      " 0   Region        29650 non-null  category\n",
      " 1   Country Code  29650 non-null  category\n",
      " 2   Country       29650 non-null  category\n",
      " 3   Year          29650 non-null  string  \n",
      " 4   Date          29650 non-null  object  \n",
      " 5   Meat Type     29650 non-null  category\n",
      " 6   Description   29650 non-null  category\n",
      " 7   Quantity      29650 non-null  float64 \n",
      " 8   Value         29650 non-null  int64   \n",
      "dtypes: category(5), float64(1), int64(1), object(1), string(1)\n",
      "memory usage: 2.3+ MB\n"
     ]
    }
   ],
   "source": [
    "df.info()"
   ]
  },
  {
   "cell_type": "code",
   "execution_count": 162,
   "metadata": {},
   "outputs": [
    {
     "data": {
      "text/plain": [
       "EUROPE                12659\n",
       "AMERICA                8250\n",
       "AFRICA                 4671\n",
       "OCEANIA                3386\n",
       "ASIA                    666\n",
       "OTHER UNCLASSIFIED       18\n",
       "Name: Region, dtype: int64"
      ]
     },
     "execution_count": 162,
     "metadata": {},
     "output_type": "execute_result"
    }
   ],
   "source": [
    "df['Region'].value_counts()"
   ]
  },
  {
   "cell_type": "code",
   "execution_count": 156,
   "metadata": {},
   "outputs": [],
   "source": [
    "df['Year'] = df['Year'].astype('string')"
   ]
  },
  {
   "cell_type": "code",
   "execution_count": 197,
   "metadata": {},
   "outputs": [
    {
     "data": {
      "text/plain": [
       "Year\n",
       "2010     491135353\n",
       "2011    1323459699\n",
       "2012    2088898330\n",
       "2013    2425453803\n",
       "2014    3101269425\n",
       "2015    3600607372\n",
       "2016    4423749442\n",
       "2017    2297570382\n",
       "2018    2203786898\n",
       "2019    2746352574\n",
       "Name: Value, dtype: int64"
      ]
     },
     "execution_count": 197,
     "metadata": {},
     "output_type": "execute_result"
    }
   ],
   "source": [
    "europe = europe.groupby('Year')['Value'].sum().sort_index()\n",
    "europe.head(10)"
   ]
  },
  {
   "cell_type": "code",
   "execution_count": 195,
   "metadata": {},
   "outputs": [],
   "source": [
    "europe = df.loc[df['Region'] == 'EUROPE']\n",
    "europe = europe[['Value', 'Year']]"
   ]
  },
  {
   "cell_type": "code",
   "execution_count": 198,
   "metadata": {},
   "outputs": [
    {
     "data": {
      "text/plain": [
       "<AxesSubplot:xlabel='Year'>"
      ]
     },
     "execution_count": 198,
     "metadata": {},
     "output_type": "execute_result"
    },
    {
     "data": {
      "image/png": "[encoded data removed]",
      "text/plain": [
       "<Figure size 432x288 with 1 Axes>"
      ]
     },
     "metadata": {},
     "output_type": "display_data"
    }
   ],
   "source": [
    "europe.plot()"
   ]
  },
  {
   "cell_type": "code",
   "execution_count": 203,
   "metadata": {},
   "outputs": [
    {
     "data": {
      "image/png": "[encoded data removed]",
      "text/plain": [
       "<Figure size 432x288 with 1 Axes>"
      ]
     },
     "metadata": {},
     "output_type": "display_data"
    }
   ],
   "source": [
    "europe.index = europe.index.map(int)\n",
    "europe.plot(kind='line')\n",
    "\n",
    "plt.title('European Exports to SA')\n",
    "plt.ylabel('Value of Exports')\n",
    "plt.xlabel('Years')\n",
    "\n",
    "plt.text(2018, 2.51e9, 'peak') # see note below\n",
    "\n",
    "plt.show()"
   ]
  }
 ],
 "metadata": {
  "interpreter": {
   "hash": "fb9f276e0f50a8c59c9b1bd8fbe1fb75b2bae3f0a31df33a26f64d22b7ba6169"
  },
  "kernelspec": {
   "display_name": "Python 3.9.7 64-bit ('base': conda)",
   "language": "python",
   "name": "python3"
  },
  "language_info": {
   "codemirror_mode": {
    "name": "ipython",
    "version": 3
   },
   "file_extension": ".py",
   "mimetype": "text/x-python",
   "name": "python",
   "nbconvert_exporter": "python",
   "pygments_lexer": "ipython3",
   "version": "3.9.7"
  },
  "orig_nbformat": 4
 },
 "nbformat": 4,
 "nbformat_minor": 2
}
